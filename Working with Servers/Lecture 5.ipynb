{
 "cells": [
  {
   "cell_type": "markdown",
   "metadata": {},
   "source": [
    "# Course: Intro to Python & R for Data Analysis\n",
    "## Lecture: Working with Servers\n",
    "Professor: Mary Kaltenberg\n",
    "\n",
    "\n",
    "contact: mkaltenberg@pace.edu\n",
    "\n",
    "About me: www.mkaltenberg.com"
   ]
  },
  {
   "cell_type": "markdown",
   "metadata": {},
   "source": [
    "## Objectives\n",
    "\n",
    "Learn to work with Servers\n",
    "- Connect to servers\n",
    "- Find your files and move within your directory\n",
    "- Run jupyter notebook from your server\n",
    "- Use \"Screen\" to continuously run programs on a serve\n",
    "- Upload/Download files from the server\n",
    "\n",
    "<img src=\"https://media.giphy.com/media/3oKIPnAiaMCws8nOsE/giphy.gif\">\n",
    "\n"
   ]
  },
  {
   "cell_type": "markdown",
   "metadata": {},
   "source": [
    "# Servers\n",
    "\n",
    "One problem in doing this lecture is that I don't have a server for you individually to access and to practice. So this is more notes for your future self. We won't spend the full class on this, but there are many situations where you should request, might have, or get access to a server. These notes will be helpful.\n",
    "\n",
    "\n",
    "By now, you should already know what a server is - a powerful computer or cluster of computers somewhere else. You can get direct access through your terminal/shell.\n",
    "\n",
    "\n",
    "I will go over other useful commands for any linux based machine that can be used in your notebook.\n"
   ]
  },
  {
   "cell_type": "markdown",
   "metadata": {},
   "source": [
    "You can access a server through SSH protocols via your terminal\n",
    "\n",
    "The first step is to log into the server (tunnel):\n",
    "\n",
    "`ssh yourusername@servername.com`\n",
    "\n",
    "enter your password\n",
    "\n",
    "Voi-la you gain access.\n",
    "\n",
    "<img src='server_access.gif' >\n",
    "\n",
    "NOTE: Many servers require that you use their VPN to access the server. Some of you are probably (hopefully) using Pace's VPN. Every VPN is different - but, very simple. \n",
    "\n",
    "If you want to **disconnect** from the server type: ctrl+a+d"
   ]
  },
  {
   "cell_type": "markdown",
   "metadata": {},
   "source": [
    "## Finding Files and Moving within your Directory"
   ]
  },
  {
   "cell_type": "markdown",
   "metadata": {},
   "source": [
    "There are a few commands that will be helpful for you to manage the file directory within the server if there is no interface (some companies allow you to work in the server through remote desktop). \n",
    "\n",
    "These commands can also be used within jupyter notebook and stata as it's internal to any computer - but it's linux based. If you have windows, the only way to use these commands is through your shell. \n",
    "\n",
    "`pwd` which is a command to let you know where you are in the directory\n",
    "\n",
    "`ls` will list all of the file or folders where you are at the moment\n",
    "\n",
    "`cd` will change the directory -> you must input where you want it to change to\n",
    "\n",
    "Let`s try it out here:\n"
   ]
  },
  {
   "cell_type": "code",
   "execution_count": null,
   "metadata": {},
   "outputs": [],
   "source": [
    "pwd"
   ]
  },
  {
   "cell_type": "code",
   "execution_count": 1,
   "metadata": {},
   "outputs": [
    {
     "name": "stdout",
     "output_type": "stream",
     "text": [
      "/Users/mkaltenberg/Documents/Data Analysis Python R Lectures/Data_Analysis_Python_R\n"
     ]
    }
   ],
   "source": [
    "cd \"/Users/mkaltenberg/Documents/Data Analysis Python R Lectures/Data_Analysis_Python_R/\""
   ]
  },
  {
   "cell_type": "code",
   "execution_count": 15,
   "metadata": {},
   "outputs": [
    {
     "name": "stdout",
     "output_type": "stream",
     "text": [
      "/Users/mkaltenberg/Documents/Data Analysis Python R Lectures/Data_Analysis_Python_R/Assignments\n"
     ]
    }
   ],
   "source": [
    "cd \"/Users/mkaltenberg/Documents/Data Analysis Python R Lectures/Data_Analysis_Python_R/Assignments/\""
   ]
  },
  {
   "cell_type": "code",
   "execution_count": null,
   "metadata": {},
   "outputs": [],
   "source": [
    "ls"
   ]
  },
  {
   "cell_type": "markdown",
   "metadata": {},
   "source": [
    "within ls there are adiitonal commands\n",
    "\n",
    "`ls -1` show all files and folders\n",
    "\n",
    "`ls -a` show all files including the hidden ones\n",
    "\n",
    "`ls -lh` displays more detailed information of all files and folders\n",
    "\n",
    "`ls -la` displays more detailed information of all  folders\n"
   ]
  },
  {
   "cell_type": "code",
   "execution_count": 9,
   "metadata": {},
   "outputs": [
    {
     "name": "stdout",
     "output_type": "stream",
     "text": [
      "total 8\r\n",
      "drwxr-xr-x   8 mkaltenberg  420499865   256 Sep 23 18:20 \u001b[34mAssignments\u001b[m\u001b[m\r\n",
      "drwxr-xr-x  15 mkaltenberg  420499865   480 Sep  9 21:51 \u001b[34mLecture_1\u001b[m\u001b[m\r\n",
      "drwxr-xr-x   7 mkaltenberg  420499865   224 Sep 16 09:43 \u001b[34mLecture_2\u001b[m\u001b[m\r\n",
      "drwxr-xr-x@ 15 mkaltenberg  420499865   480 Sep 17 11:19 \u001b[34mLecture_3\u001b[m\u001b[m\r\n",
      "drwxr-xr-x@ 12 mkaltenberg  420499865   384 Sep 23 15:39 \u001b[34mLecture_4\u001b[m\u001b[m\r\n",
      "drwxr-xr-x   9 mkaltenberg  420499865   288 Sep 23 18:55 \u001b[34mLecture_5\u001b[m\u001b[m\r\n",
      "drwxr-xr-x   8 mkaltenberg  420499865   256 Sep 23 17:53 \u001b[34mLecture_6\u001b[m\u001b[m\r\n",
      "-rw-r--r--   1 mkaltenberg  420499865  1748 Aug 27 14:16 README.md\r\n"
     ]
    }
   ],
   "source": [
    "# !ls -l\n",
    "# ls -la\n",
    "!ls -l"
   ]
  },
  {
   "cell_type": "markdown",
   "metadata": {},
   "source": [
    "Some additional tricks that are useful to know about navigating the directory file system:\n",
    "\n",
    "   `cd ..` will cd the director \"UP\" one directory\n",
    "   \n",
    "   `cd ~` will take you to the root directory\n"
   ]
  },
  {
   "cell_type": "code",
   "execution_count": 10,
   "metadata": {},
   "outputs": [
    {
     "name": "stdout",
     "output_type": "stream",
     "text": [
      "/Users/mkaltenberg/Documents/Data Analysis Python R Lectures\n"
     ]
    }
   ],
   "source": [
    "cd .."
   ]
  },
  {
   "cell_type": "code",
   "execution_count": 11,
   "metadata": {},
   "outputs": [
    {
     "name": "stdout",
     "output_type": "stream",
     "text": [
      "/Users/mkaltenberg\n"
     ]
    }
   ],
   "source": [
    "cd ~"
   ]
  },
  {
   "cell_type": "code",
   "execution_count": 13,
   "metadata": {},
   "outputs": [
    {
     "data": {
      "text/plain": [
       "'/Users/mkaltenberg'"
      ]
     },
     "execution_count": 13,
     "metadata": {},
     "output_type": "execute_result"
    }
   ],
   "source": [
    "pwd"
   ]
  },
  {
   "cell_type": "code",
   "execution_count": 22,
   "metadata": {},
   "outputs": [],
   "source": [
    "mv \"/Users/mkaltenberg/Documents/factors_ineq_all_countries.csv\"  \"/Users/mkaltenberg/Documents/Data Analysis Python R Lectures/\""
   ]
  },
  {
   "cell_type": "markdown",
   "metadata": {},
   "source": [
    "You can also:\n",
    "\n",
    "`mkdir` make directories\n",
    "\n",
    "`rmdir` delete directories **[Be VERY CAREFUL with delete directories]**\n",
    "\n",
    "`rm` delete specific files **[CAUTION]**\n",
    "\n",
    "`mv from/path/location/filename.csv  to/path/location` move directories or files <- you need to provide the location you will move the file\n",
    "\n",
    "`head` will print the first 10 lines of a file (useful if you can't remember what you stored in a file)\n",
    "\n",
    "`zip` zip files or folders\n",
    "more specifically:\n",
    "\n",
    "`zip -r zipfilename.zip directoryname` you can zip a folder to include all files in the folder\n",
    "\n",
    "`cat` can give you a peak into the file contents\n",
    "\n",
    "\n",
    "*tab* is useful in your terminal/shell and in this notebook to auto-fill (like we've done before)\n",
    "\n",
    "\n",
    "`nano` can also be useful - it's a text editor for terminal. I don't use it often, though.\n",
    "\n",
    "There are some other features you can do, including to search for something within files. More details on this are in this useful [website](http://jonathansoma.com/lede/foundations-2017/classes/command%20line/class/)."
   ]
  },
  {
   "cell_type": "code",
   "execution_count": 23,
   "metadata": {},
   "outputs": [
    {
     "data": {
      "text/plain": [
       "'/Users/mkaltenberg/Documents/Data Analysis Python R Lectures/Data_Analysis_Python_R/Assignments'"
      ]
     },
     "execution_count": 23,
     "metadata": {},
     "output_type": "execute_result"
    }
   ],
   "source": [
    "pwd"
   ]
  },
  {
   "cell_type": "markdown",
   "metadata": {},
   "source": [
    "## Running Jupyter Notebook in your server"
   ]
  },
  {
   "cell_type": "markdown",
   "metadata": {},
   "source": [
    "The reason I prefer Jupyter Notebook over any other python manager is the localhost feature. This makes it very easy to connect your notebook locally but connect directly to a server. It's easy, but tricky at first. \n",
    "\n",
    "### 1. Open a Jupyter Notebook in your server\n",
    "#### a. Save the token. This will grant you access later. You can turn off this feature, but I don't reccommend it. This is autogenerated and when you shut down the notebook, it will delete. \n",
    "#### b. NOTICE the local host numnber. Here it says \"localhost:8889\"\n",
    "    \n",
    "<img src ='open_notebook_server.gif'>\n",
    "\n",
    "\n",
    "### 2. Use SSH to connect the opened jupyter notebook in your server to locally operate your jupyter notebook on your desktop.\n",
    "To connect the server jupyter notebook to connect locally to your computer, you need to input this command in your shell/terminal:\n",
    "\n",
    "`ssh -N -f -L localhost:8880:localhost:8889 yourusername@serername.edu`\n",
    "\n",
    "The numbers in the local host is what you input.\n",
    "\n",
    "`ssh -N -f -L localhost:YOURNUMBER:SERVERHOST:SERVERHOSTNUMBER yourusername@serername.edu`\n",
    "\n",
    "I am choosing that the port to use in my computer will be port 8881.\n",
    "The information in \"localhost:8889 mkaltenberg@archer.brandeis.edu\" is defined by the server. the local host number that we noted earlier and the name of the server.  \n",
    "\n",
    "It will ask you for a password to the server.\n",
    "\n",
    "In this particular instance the full command is:\n",
    "\n",
    "`ssh -N -f -L localhost:8881:localhost:8889 mkaltenberg@archer.brandeis.edu`\n",
    "\n",
    "It will ask you for your password, If it enters and a new line appears underneath with no error, then you are connected.\n",
    "\n",
    "<img src='server_access.png'>\n",
    " \n",
    "### 3. Go to any browse and input: `localhost:8881`\n",
    "Again, this is specific to the port number you chose. \n",
    "\n",
    "Input the token that we copied and pasted earlier. The token is all information past the equal sign.\n",
    "\n",
    "\n",
    "<img src= 'browser.png'>\n",
    "\n",
    "### 5. Go to the directory where you want to operate and open a new notebook or open an existing one as you would any other computer.\n",
    "\n",
    "\n"
   ]
  },
  {
   "cell_type": "markdown",
   "metadata": {},
   "source": [
    "## Screen\n",
    "\n",
    "If you get disconnected from your VPN or get disconnected from the server for some reason, whatever you were running will shut down. When you use big data, it is often the case that you will need a lot of time to run something. Sometimes it can take hours (and in the worst case days). \n",
    "\n",
    "Note: If you are running something that will take a week on a server then you are not processing it efficiently - go back to your code and improve it. There are exceptions if you have a not great server for 100 GB of data. But, if a company is processing 100GB of data, they probably have a server that can process that.\n",
    "\n",
    "The best way to avoid being disconnected and lose all of the calculations that you ran is to use screen. It is VERY useful. \n",
    "\n",
    "WITHIN the server (not your local computer) go to the powershell and type the command\n",
    "\n",
    "`screen`\n",
    "\n",
    "Typically I will first hit return/enter and then ctrl + .\n",
    "\n",
    "Then you will run whatever program you want to keep running continuously until you shut it off. (This works for any program, so you can do that for R, STATA, Jupyter notebook, whatever).\n",
    "\n",
    "`jupyter notebook`\n",
    "\n",
    "<img src = \"screen_start.gif\">\n",
    "\n",
    "To get out of that screen you can escape with ctrl+a+d\n",
    "\n",
    "You can see that I exited that screen. But, we I hit the command\n",
    "\n",
    "`screen -ls`\n",
    "\n",
    "it lists the current active screens, and the one that is highlighted is the screen I just created.\n",
    "\n",
    "You can log into a the jupyter notebook by tunnelling as we described in the previous section. "
   ]
  },
  {
   "cell_type": "markdown",
   "metadata": {},
   "source": [
    "### Attaching and Detatching screens\n",
    "\n",
    "The whole point of screens is that you can detatch and attach to screens. All that means is that you can temporarily exit (but not disrupt the program from runnning) and you can also restart (aka pick up from where you left off)\n",
    "\n",
    "Detatching is easy:\n",
    "\n",
    "ctrl+a+d\n",
    "\n",
    "Attaching is the command -R, like so:\n",
    "\n",
    "`screen -R Name.of.Screen.Here`\n",
    "\n",
    "And sometimes you might want to exit it completely when you're done with the \"kill\" command:\n",
    "\n",
    "`screen -X -S Name.of.Screen.Here kill`\n",
    "\n",
    "you can always get the name of the screen with `screen -ls`\n"
   ]
  },
  {
   "cell_type": "markdown",
   "metadata": {},
   "source": [
    "## Upload/Download files from/to the server"
   ]
  },
  {
   "cell_type": "markdown",
   "metadata": {},
   "source": [
    "An easy way to export or import files from your server is to go to your LOCAL computer terminal. Do not do this from within the server.\n",
    "\n",
    "To download csv to computer:  `scp` is the command for copying\n",
    "\n",
    "`scp username@servername.edu:from/this/server/filename.csv  to/this/location/atlocalcomputer/filename.csv`\n",
    "\n",
    "\n",
    "To upload is the same command but the location is reversed.\n",
    "\n",
    "`scp /your/localpath/filename.csv yourusername@servername.edu:/home/path/name/atserver/filename.csv`\n",
    "\n",
    "You can do the same command for entire folders:\n",
    "\n",
    "`scp /your/local/filename.csv yourusername@servername.edu:/home/path/name/atserver/`"
   ]
  },
  {
   "cell_type": "markdown",
   "metadata": {},
   "source": [
    "Make friends with your system administrator for your server. \n",
    "\n",
    "They are the guardians to computing and can help you or...\n",
    "\n",
    "<img src = \"https://media.giphy.com/media/dbtDDSvWErdf2/giphy.gif\">"
   ]
  },
  {
   "cell_type": "markdown",
   "metadata": {},
   "source": [
    "## Useful packages for Data Science \n",
    "(that we won't cover in this class)\n",
    "\n",
    "These three packages use python, but the language is based on other programs. You will have to learn the programs language to utilize it. They are incredibly popular in industry jobs for data science and financial analysis. \n",
    "\n",
    "\n",
    "- Dask (integrates a lot of data science packages to be applied in large scale servers/cluster computing. It makes big data easy)\n",
    "- PySpark (spark is anotehr language used to manage big data in SQL like analysis. py spark is mostly used in machine learning)\n",
    "- MonetSQL  (this is one version to link python to SQL) sql is a relational database manager - you should learn this if you are interested in data science.\n",
    "\n",
    "\n",
    "These three are the most used and common packages:\n",
    "- SciPy - statistics package\n",
    "- SciKit-Learn  -mostly machine learning\n",
    "- NLTK - anything to do with natural language processing\n",
    "\n",
    "These are more specific to advanced machine learning/deep learning/neural nets\n",
    "- Tensorflow -mostly neural nets\n",
    "- Keras - machine learning\n",
    "- PyTorch -machine learning\n",
    "\n",
    "\n",
    "- NetworkX - network analysis\n",
    "There is also iGraph, but I prefere NetworkX"
   ]
  }
 ],
 "metadata": {
  "kernelspec": {
   "display_name": "Python 3",
   "language": "python",
   "name": "python3"
  },
  "language_info": {
   "codemirror_mode": {
    "name": "ipython",
    "version": 3
   },
   "file_extension": ".py",
   "mimetype": "text/x-python",
   "name": "python",
   "nbconvert_exporter": "python",
   "pygments_lexer": "ipython3",
   "version": "3.8.5"
  }
 },
 "nbformat": 4,
 "nbformat_minor": 2
}
