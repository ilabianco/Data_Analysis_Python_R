{
 "cells": [
  {
   "cell_type": "code",
   "execution_count": 5,
   "id": "4c375c93",
   "metadata": {},
   "outputs": [
    {
     "data": {
      "text/plain": [
       "['United States',\n",
       " 'France',\n",
       " 'Poland',\n",
       " 'Italy',\n",
       " 'Ireland',\n",
       " 'Nepal',\n",
       " 'Phillipines',\n",
       " 'Mexico',\n",
       " 'Canada',\n",
       " 'Portugal']"
      ]
     },
     "execution_count": 5,
     "metadata": {},
     "output_type": "execute_result"
    }
   ],
   "source": [
    "countries = ['United States', 'France', 'Poland', 'Italy', 'Ireland', 'Nepal', 'Phillipines', 'Mexico', 'Canada', 'Portugal']\n",
    "list (countries)"
   ]
  },
  {
   "cell_type": "code",
   "execution_count": 4,
   "id": "0c5fa55f",
   "metadata": {},
   "outputs": [
    {
     "name": "stdout",
     "output_type": "stream",
     "text": [
      "{'United States': 'Washington DC', 'France': 'Paris', 'Poland': 'Warsaw', 'Italy': 'Rome', 'Ireland': 'Dublin', 'Nepal': 'Kathmandu', 'Phillipines': 'Manila', 'Mexico': 'Mexico City', 'Canada': 'Ottawa', 'Portual': 'Lisbon'}\n"
     ]
    }
   ],
   "source": [
    "country_capitals = {'United States': 'Washington DC', 'France':'Paris', 'Poland':'Warsaw', 'Italy':'Rome', 'Ireland':'Dublin','Nepal':'Kathmandu', 'Phillipines':'Manila', 'Mexico':'Mexico City', 'Canada':'Ottawa', 'Portual':'Lisbon'}\n",
    "print (country_capitals)"
   ]
  },
  {
   "cell_type": "code",
   "execution_count": 82,
   "id": "161e422d",
   "metadata": {},
   "outputs": [
    {
     "name": "stdout",
     "output_type": "stream",
     "text": [
      "{'United States': 'Washington DC', 'France': 'Paris', 'Poland': 'Warsaw', 'Italy': 'Rome', 'Ireland': 'Dublin', 'Nepal': 'Kathmandu', 'Phillipines': 'Manila', 'Mexico': 'Mexico City', 'Canada': 'Ottawa', 'Portual': 'Lisbon', 'Spain': 'Madrid'}\n"
     ]
    }
   ],
   "source": [
    "country_capitals['Spain']='Madrid'\n",
    "print (country_capitals)"
   ]
  },
  {
   "cell_type": "code",
   "execution_count": 10,
   "id": "e95a2194",
   "metadata": {},
   "outputs": [
    {
     "name": "stdout",
     "output_type": "stream",
     "text": [
      "['Italy', 'Ireland', 'Nepal', 'Phillipines', 'Mexico']\n"
     ]
    }
   ],
   "source": [
    "sub_countries = countries[3:8]\n",
    "print (sub_countries)"
   ]
  },
  {
   "cell_type": "code",
   "execution_count": 106,
   "id": "c4a0ab0c",
   "metadata": {
    "scrolled": true
   },
   "outputs": [
    {
     "name": "stdout",
     "output_type": "stream",
     "text": [
      "Starts with C: Canada\n",
      "Countries that dont start with C: 9\n"
     ]
    }
   ],
   "source": [
    "check = 'C'\n",
    "count = 0\n",
    "for country in countries:\n",
    "    for idx in country:\n",
    "        if idx [0].lower() == check.lower():\n",
    "            print('Starts with C: ' + str(country))\n",
    "            break\n",
    "        else:\n",
    "            count = count+1\n",
    "            break\n",
    "            \n",
    "            \n",
    "print('Countries that dont start with C: ' + str(count))"
   ]
  },
  {
   "cell_type": "markdown",
   "id": "a41ba74b",
   "metadata": {},
   "source": [
    "Sources: https://www.geeksforgeeks.org/python-find-the-list-elements-starting-with-specific-letter/, https://www.guru99.com/python-dictionary-append.html#6, https://www.pythontutorial.net/python-basics/python-list-slice/, https://realpython.com/python-enumerate/"
   ]
  },
  {
   "cell_type": "markdown",
   "id": "55d3aa52",
   "metadata": {},
   "source": [
    "Consulted: Manny Garza (not in this class) and Maria Andrukhiv"
   ]
  }
 ],
 "metadata": {
  "kernelspec": {
   "display_name": "Python 3",
   "language": "python",
   "name": "python3"
  },
  "language_info": {
   "codemirror_mode": {
    "name": "ipython",
    "version": 3
   },
   "file_extension": ".py",
   "mimetype": "text/x-python",
   "name": "python",
   "nbconvert_exporter": "python",
   "pygments_lexer": "ipython3",
   "version": "3.8.8"
  }
 },
 "nbformat": 4,
 "nbformat_minor": 5
}
